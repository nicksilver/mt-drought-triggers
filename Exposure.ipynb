{
 "cells": [
  {
   "cell_type": "code",
   "execution_count": 2,
   "metadata": {},
   "outputs": [],
   "source": [
    "import xarray as xr\n",
    "import numpy as np\n",
    "import rasterio as rio\n",
    "import rioxarray\n",
    "from affine import Affine\n",
    "import geopandas as gpd\n",
    "import pandas as pd\n",
    "import xagg as xa\n",
    "from rasterstats import zonal_stats\n",
    "import matplotlib.pyplot as plt"
   ]
  },
  {
   "cell_type": "code",
   "execution_count": 3,
   "metadata": {},
   "outputs": [],
   "source": [
    "dpath = '/home/nick/workspace/climate_office/mt-drought-triggers/data/'\n",
    "ds = xr.open_dataset(dpath + \"All_Droughts_MT.nc\")\n",
    "counties = gpd.read_file(\"zip://\" + dpath + \"MT_Counties.zip\")\n",
    "transform = rio.open(dpath + \"All_Droughts_MT.nc\").transform"
   ]
  },
  {
   "cell_type": "code",
   "execution_count": 4,
   "metadata": {},
   "outputs": [],
   "source": [
    "counties = counties[['NAME', 'COUNTYNUMB', 'geometry']]\n",
    "counties.index = counties['COUNTYNUMB']\n",
    "counties.drop(columns=['COUNTYNUMB'], inplace=True)"
   ]
  },
  {
   "cell_type": "code",
   "execution_count": 44,
   "metadata": {},
   "outputs": [],
   "source": [
    "ds_slice = ds.sel(time=slice('2001-01-01', '2020-12-31'))\n",
    "ds_djf = ds_slice['DM'].loc[ds_slice[\"time.month\"].isin([12, 1, 2])]\n",
    "ds_mam = ds_slice['DM'].loc[ds_slice[\"time.month\"].isin([3, 4, 5])]\n",
    "ds_jja = ds_slice['DM'].loc[ds_slice[\"time.month\"].isin([6, 7, 8])]\n",
    "ds_son = ds_slice['DM'].loc[ds_slice[\"time.month\"].isin([9, 10, 11])]"
   ]
  },
  {
   "cell_type": "code",
   "execution_count": 48,
   "metadata": {},
   "outputs": [],
   "source": [
    "drought = ds_slice['DM'].where(ds_slice['DM'] >= 2).sum(dim='time', skipna=True, min_count=1)\n",
    "drought_djf = ds_djf.where(ds_djf >= 2).sum(dim='time', skipna=True, min_count=1)\n",
    "drought_mam = ds_mam.where(ds_mam >= 2).sum(dim='time', skipna=True, min_count=1)\n",
    "drought_jja = ds_jja.where(ds_jja >= 2).sum(dim='time', skipna=True, min_count=1)\n",
    "drought_son = ds_son.where(ds_son >= 2).sum(dim='time', skipna=True, min_count=1)"
   ]
  },
  {
   "cell_type": "code",
   "execution_count": 50,
   "metadata": {},
   "outputs": [],
   "source": [
    "drought.rio.to_raster('data/D2_Drought_Freq_2001-2020.tif')\n",
    "drought_djf.rio.to_raster('data/D2_Drought_Freq_DJF_2001-2020.tif')\n",
    "drought_mam.rio.to_raster('data/D2_Drought_Freq_MAM_2001-2020.tif')\n",
    "drought_jja.rio.to_raster('data/D2_Drought_Freq_JJA_2001-2020.tif')\n",
    "drought_son.rio.to_raster('data/D2_Drought_Freq_SON_2001-2020.tif')"
   ]
  }
 ],
 "metadata": {
  "kernelspec": {
   "display_name": "Python 3.9.13 ('geospat')",
   "language": "python",
   "name": "python3"
  },
  "language_info": {
   "codemirror_mode": {
    "name": "ipython",
    "version": 3
   },
   "file_extension": ".py",
   "mimetype": "text/x-python",
   "name": "python",
   "nbconvert_exporter": "python",
   "pygments_lexer": "ipython3",
   "version": "3.9.13"
  },
  "orig_nbformat": 4,
  "vscode": {
   "interpreter": {
    "hash": "84bb569eb9f3e1cc73e81c57c4512ea1c69ba39ae97de25eceaac4ad535ac33b"
   }
  }
 },
 "nbformat": 4,
 "nbformat_minor": 2
}
